{
 "cells": [
  {
   "cell_type": "markdown",
   "metadata": {},
   "source": [
    "This notebook is based on Yassine Ghouzam's [Introduction to CNN Keras](https://www.kaggle.com/yassineghouzam/introduction-to-cnn-keras-0-997-top-6)"
   ]
  },
  {
   "cell_type": "markdown",
   "metadata": {},
   "source": [
    "# Import Packages"
   ]
  },
  {
   "cell_type": "code",
   "execution_count": 1,
   "metadata": {},
   "outputs": [],
   "source": [
    "import pandas as pd\n",
    "import numpy as np\n",
    "import matplotlib.pyplot as plt\n",
    "import matplotlib.image as mpimg\n",
    "import seaborn as sns\n",
    "%matplotlib inline\n",
    "sns.set(style='white', context='notebook', palette='deep')\n",
    "\n",
    "from sklearn.model_selection import train_test_split\n",
    "from sklearn.metrics import confusion_matrix\n",
    "import itertools\n",
    "\n",
    "from tensorflow.keras.datasets import mnist\n",
    "from tensorflow.keras.utils import to_categorical\n",
    "from tensorflow.keras.models import Sequential\n",
    "from tensorflow.keras.layers import Dense, Dropout, Flatten, Conv2D, MaxPool2D\n",
    "from tensorflow.keras.optimizers import RMSprop\n",
    "from tensorflow.keras.preprocessing.image import ImageDataGenerator\n",
    "from tensorflow.keras.callbacks import ReduceLROnPlateau\n",
    "\n",
    "np.random.seed(2)"
   ]
  },
  {
   "cell_type": "markdown",
   "metadata": {},
   "source": [
    "# Data Preparation"
   ]
  },
  {
   "cell_type": "markdown",
   "metadata": {},
   "source": [
    "I import the data from the MNIST database. I reshape the images to add a the channel (i.e. the number of colors in the image, here one) and I normalize the elements of the matrices (by dividing by the difference between the maximum and the minimum element)."
   ]
  },
  {
   "cell_type": "code",
   "execution_count": 2,
   "metadata": {},
   "outputs": [
    {
     "name": "stdout",
     "output_type": "stream",
     "text": [
      "(60000, 28, 28, 1) (10000, 28, 28, 1)\n"
     ]
    }
   ],
   "source": [
    "(X_train, Y_train), (X_test, Y_test) = mnist.load_data(path='mnist.npz')\n",
    "X_train = X_train.reshape(-1,28,28,1) # -1 means the value is inferred from the length of the array and remaining dimensions.\n",
    "X_test = X_test.reshape(-1,28,28,1)\n",
    "X_train = X_train/255\n",
    "X_test = X_test/255\n",
    "print(X_train.shape, X_test.shape)"
   ]
  },
  {
   "cell_type": "markdown",
   "metadata": {},
   "source": [
    "I convert the label vector to a matrix of one-hot vectors. The columns correspond to the possible digit that the image can represent. Each row is filled with zeros but for one element which is one, indicating the label of the image."
   ]
  },
  {
   "cell_type": "code",
   "execution_count": 3,
   "metadata": {},
   "outputs": [],
   "source": [
    "Y_train = to_categorical(Y_train, num_classes = 10)"
   ]
  },
  {
   "cell_type": "markdown",
   "metadata": {},
   "source": [
    "I split the training set in training and validation, where 1/10 of the initial set constitutes the validation set.\n",
    "I set a seed in order to assure that this random split is reproducible."
   ]
  },
  {
   "cell_type": "code",
   "execution_count": 4,
   "metadata": {},
   "outputs": [],
   "source": [
    "random_seed = 2\n",
    "X_train, X_val, Y_train, Y_val = train_test_split(X_train, Y_train, test_size = 0.1, random_state=random_seed)"
   ]
  },
  {
   "cell_type": "markdown",
   "metadata": {},
   "source": [
    "# Model"
   ]
  },
  {
   "cell_type": "markdown",
   "metadata": {},
   "source": [
    "The architecture of the model is as follows:\n",
    "\n",
    "\\[\\([2D Convolution](https://keras.io/api/layers/convolution_layers/convolution2d/)\\) x 2 &#8594; [2D Max Pooling](https://keras.io/api/layers/pooling_layers/max_pooling2d/) &#8594; [Dropout](https://keras.io/api/layers/regularization_layers/dropout/)\\] x 2 &#8594; [Flatten](https://keras.io/api/layers/reshaping_layers/flatten/) &#8594; [Dense](https://keras.io/api/layers/core_layers/dense/) &#8594; [Dropout](https://keras.io/api/layers/regularization_layers/dropout/) &#8594; [Out](https://keras.io/api/layers/core_layers/dense/)"
   ]
  },
  {
   "cell_type": "markdown",
   "metadata": {},
   "source": [
    "__Conceptual Summary of the Architecture:__\n",
    "\n",
    "* Convolutional Layer: Abstracts a feature map from an image.\n",
    "* Max Pooling Layer: Summarizes the most activated presence of a feature.\n",
    "* Dropout Layer: Randomly sets a fraction of input units to 0 at each training step.\n",
    "* Flatten Layer: Flattens input into a vector.\n",
    "* Dense Layer: Fully connected layer, i.e. all neurons between two layers are interconnected.\n",
    "\n",
    "A “Kernel” refers to a 2D array of weights. The term “filter” is for 3D structures of multiple kernels stacked together. For a 2D filter, filter is same as kernel. But for a 3D filter and most convolutions in deep learning, a filter is a collection of kernels.\n",
    "\n",
    "__Summary of the TensorFlow's Arguments:__\n",
    "\n",
    "* Filters: Dimensionality of the output space, i.e. number of features to extract from the input.\n",
    "* Kernel Size: Height and width of the 2D convolution window.\n",
    "* Padding:\n",
    "    - Valid = No padding.\n",
    "    - Same = Even zero padding of the input such that output has the same dimensions as the input.\n",
    "* Activation:\n",
    "    - Main Advantage of ReLu in CNN Context: Prevents exponential growth in computation. As the CNN scales in size, the computational cost of adding extra ReLUs increases linearly.\n",
    "    - Main Advantage of Softmax in Output Context: Ensuring that the sum of the final activations (logits) is equal to one. These logits can then be interpreted as probabilities and used for classification.\n",
    "* Pool Size: Height and width of the 2D pool window.\n",
    "* Stride: Controls how the convolution window moves around the input."
   ]
  },
  {
   "cell_type": "code",
   "execution_count": 5,
   "metadata": {},
   "outputs": [],
   "source": [
    "model = Sequential()\n",
    "\n",
    "model.add(Conv2D(filters = 32, kernel_size = (5,5),padding = 'Same', \n",
    "                 activation ='relu', input_shape = (28,28,1)))\n",
    "model.add(Conv2D(filters = 32, kernel_size = (5,5),padding = 'Same', \n",
    "                 activation ='relu'))\n",
    "model.add(MaxPool2D(pool_size=(2,2), strides=(2,2)))\n",
    "model.add(Dropout(0.25))\n",
    "\n",
    "model.add(Conv2D(filters = 64, kernel_size = (3,3),padding = 'Same', \n",
    "                 activation ='relu'))\n",
    "model.add(Conv2D(filters = 64, kernel_size = (3,3),padding = 'Same', \n",
    "                 activation ='relu'))\n",
    "model.add(MaxPool2D(pool_size=(2,2), strides=(2,2)))\n",
    "model.add(Dropout(0.25))\n",
    "\n",
    "model.add(Flatten())\n",
    "model.add(Dense(256, activation = \"relu\"))\n",
    "model.add(Dropout(0.5))\n",
    "model.add(Dense(10, activation = \"softmax\"))"
   ]
  },
  {
   "cell_type": "markdown",
   "metadata": {},
   "source": [
    "[ReduceLROnPlateau](https://keras.io/api/callbacks/reduce_lr_on_plateau/) reduces the learning rate as the monitored metric stagnated for _patience_ epochs.  \n",
    "&#8594; Prevents divergent behaviour from minimum if learning rate too high.\n",
    "\n",
    "[ImageDataGenerator](https://keras.io/api/preprocessing/image/) generates noisier images from the training set.  \n",
    "&#8594; Reduces overfitting.\n"
   ]
  },
  {
   "cell_type": "code",
   "execution_count": 6,
   "metadata": {},
   "outputs": [],
   "source": [
    "optimizer = RMSprop(lr=0.001, rho=0.9, epsilon=1e-08, decay=0.0)\n",
    "model.compile(optimizer = optimizer , loss = \"categorical_crossentropy\", metrics=[\"accuracy\"])\n",
    "learning_rate_reduction = ReduceLROnPlateau(monitor='val_accuracy', \n",
    "                                            patience=3, \n",
    "                                            verbose=1, \n",
    "                                            factor=0.5, \n",
    "                                            min_lr=0.00001) \n",
    "epochs = 30\n",
    "batch_size = 86"
   ]
  },
  {
   "cell_type": "code",
   "execution_count": 7,
   "metadata": {},
   "outputs": [],
   "source": [
    "datagen = ImageDataGenerator(\n",
    "        featurewise_center=False,  \n",
    "        samplewise_center=False,  \n",
    "        featurewise_std_normalization=False,  \n",
    "        samplewise_std_normalization=False,  \n",
    "        zca_whitening=False,  \n",
    "        rotation_range=10,  \n",
    "        zoom_range = 0.1, \n",
    "        width_shift_range=0.1,  \n",
    "        height_shift_range=0.1,  \n",
    "        horizontal_flip=False, \n",
    "        vertical_flip=False)  "
   ]
  },
  {
   "cell_type": "code",
   "execution_count": 8,
   "metadata": {},
   "outputs": [
    {
     "name": "stdout",
     "output_type": "stream",
     "text": [
      "Epoch 1/30\n",
      "627/627 - 216s - loss: 0.3478 - accuracy: 0.8883 - val_loss: 0.0592 - val_accuracy: 0.9833\n",
      "Epoch 2/30\n",
      "627/627 - 216s - loss: 0.1049 - accuracy: 0.9689 - val_loss: 0.0341 - val_accuracy: 0.9882\n",
      "Epoch 3/30\n",
      "627/627 - 148s - loss: 0.0804 - accuracy: 0.9760 - val_loss: 0.0391 - val_accuracy: 0.9888\n",
      "Epoch 4/30\n",
      "627/627 - 136s - loss: 0.0715 - accuracy: 0.9794 - val_loss: 0.0450 - val_accuracy: 0.9863\n",
      "Epoch 5/30\n",
      "627/627 - 138s - loss: 0.0667 - accuracy: 0.9810 - val_loss: 0.0282 - val_accuracy: 0.9917\n",
      "Epoch 6/30\n",
      "627/627 - 136s - loss: 0.0633 - accuracy: 0.9816 - val_loss: 0.0306 - val_accuracy: 0.9908\n",
      "Epoch 7/30\n",
      "627/627 - 137s - loss: 0.0597 - accuracy: 0.9829 - val_loss: 0.0400 - val_accuracy: 0.9897\n",
      "Epoch 8/30\n",
      "627/627 - 136s - loss: 0.0637 - accuracy: 0.9825 - val_loss: 0.0336 - val_accuracy: 0.9920\n",
      "Epoch 9/30\n",
      "627/627 - 136s - loss: 0.0612 - accuracy: 0.9828 - val_loss: 0.0267 - val_accuracy: 0.9930\n",
      "Epoch 10/30\n",
      "627/627 - 135s - loss: 0.0643 - accuracy: 0.9828 - val_loss: 0.0298 - val_accuracy: 0.9933\n",
      "Epoch 11/30\n",
      "627/627 - 136s - loss: 0.0661 - accuracy: 0.9828 - val_loss: 0.0379 - val_accuracy: 0.9883\n",
      "Epoch 12/30\n",
      "627/627 - 133s - loss: 0.0671 - accuracy: 0.9825 - val_loss: 0.0397 - val_accuracy: 0.9902\n",
      "Epoch 13/30\n",
      "627/627 - 98s - loss: 0.0676 - accuracy: 0.9824 - val_loss: 0.0348 - val_accuracy: 0.9907\n",
      "\n",
      "Epoch 00013: ReduceLROnPlateau reducing learning rate to 0.0005000000237487257.\n",
      "Epoch 14/30\n",
      "627/627 - 97s - loss: 0.0506 - accuracy: 0.9868 - val_loss: 0.0287 - val_accuracy: 0.9923\n",
      "Epoch 15/30\n",
      "627/627 - 98s - loss: 0.0504 - accuracy: 0.9866 - val_loss: 0.0265 - val_accuracy: 0.9938\n",
      "Epoch 16/30\n",
      "627/627 - 102s - loss: 0.0521 - accuracy: 0.9865 - val_loss: 0.0248 - val_accuracy: 0.9932\n",
      "Epoch 17/30\n",
      "627/627 - 101s - loss: 0.0484 - accuracy: 0.9866 - val_loss: 0.0216 - val_accuracy: 0.9935\n",
      "Epoch 18/30\n",
      "627/627 - 111s - loss: 0.0476 - accuracy: 0.9870 - val_loss: 0.0287 - val_accuracy: 0.9942\n",
      "Epoch 19/30\n",
      "627/627 - 136s - loss: 0.0510 - accuracy: 0.9872 - val_loss: 0.0360 - val_accuracy: 0.9932\n",
      "Epoch 20/30\n",
      "627/627 - 138s - loss: 0.0501 - accuracy: 0.9871 - val_loss: 0.0413 - val_accuracy: 0.9918\n",
      "Epoch 21/30\n",
      "627/627 - 134s - loss: 0.0533 - accuracy: 0.9861 - val_loss: 0.0276 - val_accuracy: 0.9928\n",
      "\n",
      "Epoch 00021: ReduceLROnPlateau reducing learning rate to 0.0002500000118743628.\n",
      "Epoch 22/30\n",
      "627/627 - 117s - loss: 0.0410 - accuracy: 0.9887 - val_loss: 0.0692 - val_accuracy: 0.9917\n",
      "Epoch 23/30\n",
      "627/627 - 113s - loss: 0.0423 - accuracy: 0.9887 - val_loss: 0.0308 - val_accuracy: 0.9933\n",
      "Epoch 24/30\n",
      "627/627 - 117s - loss: 0.0421 - accuracy: 0.9886 - val_loss: 0.0293 - val_accuracy: 0.9932\n",
      "\n",
      "Epoch 00024: ReduceLROnPlateau reducing learning rate to 0.0001250000059371814.\n",
      "Epoch 25/30\n",
      "627/627 - 114s - loss: 0.0375 - accuracy: 0.9899 - val_loss: 0.0261 - val_accuracy: 0.9928\n",
      "Epoch 26/30\n",
      "627/627 - 113s - loss: 0.0369 - accuracy: 0.9900 - val_loss: 0.0310 - val_accuracy: 0.9935\n",
      "Epoch 27/30\n",
      "627/627 - 110s - loss: 0.0362 - accuracy: 0.9903 - val_loss: 0.0645 - val_accuracy: 0.9930\n",
      "\n",
      "Epoch 00027: ReduceLROnPlateau reducing learning rate to 6.25000029685907e-05.\n",
      "Epoch 28/30\n",
      "627/627 - 102s - loss: 0.0333 - accuracy: 0.9912 - val_loss: 0.0276 - val_accuracy: 0.9937\n",
      "Epoch 29/30\n",
      "627/627 - 102s - loss: 0.0349 - accuracy: 0.9900 - val_loss: 0.0750 - val_accuracy: 0.9925\n",
      "Epoch 30/30\n",
      "627/627 - 101s - loss: 0.0350 - accuracy: 0.9908 - val_loss: 0.0454 - val_accuracy: 0.9925\n",
      "\n",
      "Epoch 00030: ReduceLROnPlateau reducing learning rate to 3.125000148429535e-05.\n"
     ]
    },
    {
     "data": {
      "image/png": "[encoded data removed]",
      "text/plain": [
       "<Figure size 432x288 with 2 Axes>"
      ]
     },
     "metadata": {},
     "output_type": "display_data"
    }
   ],
   "source": [
    "datagen.fit(X_train)\n",
    "history = model.fit(datagen.flow(X_train,Y_train, batch_size=batch_size),\n",
    "                              epochs = epochs, validation_data = (X_val,Y_val),\n",
    "                              verbose = 2, steps_per_epoch=X_train.shape[0] // batch_size\n",
    "                              , callbacks=[learning_rate_reduction])\n",
    "fig, ax = plt.subplots(2,1)\n",
    "ax[0].plot(history.history['loss'], color='b', label=\"Training loss\")\n",
    "ax[0].plot(history.history['val_loss'], color='r', label=\"validation loss\",axes =ax[0])\n",
    "legend = ax[0].legend(loc='best', shadow=True)\n",
    "\n",
    "ax[1].plot(history.history['accuracy'], color='b', label=\"Training accuracy\")\n",
    "ax[1].plot(history.history['val_accuracy'], color='r',label=\"Validation accuracy\")\n",
    "legend = ax[1].legend(loc='best', shadow=True)"
   ]
  },
  {
   "cell_type": "code",
   "execution_count": 26,
   "metadata": {},
   "outputs": [
    {
     "name": "stdout",
     "output_type": "stream",
     "text": [
      "Accuracy: 0.9948\n"
     ]
    }
   ],
   "source": [
    "results = model.predict(X_test)\n",
    "results = np.argmax(results, axis = 1)\n",
    "print('Accuracy:', (Y_test==results).sum()/len(Y_test))"
   ]
  }
 ],
 "metadata": {
  "kernelspec": {
   "display_name": "Python 3",
   "language": "python",
   "name": "python3"
  },
  "language_info": {
   "codemirror_mode": {
    "name": "ipython",
    "version": 3
   },
   "file_extension": ".py",
   "mimetype": "text/x-python",
   "name": "python",
   "nbconvert_exporter": "python",
   "pygments_lexer": "ipython3",
   "version": "3.8.5"
  }
 },
 "nbformat": 4,
 "nbformat_minor": 2
}
